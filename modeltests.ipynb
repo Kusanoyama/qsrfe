{
 "cells": [
  {
   "cell_type": "code",
   "execution_count": 2,
   "metadata": {},
   "outputs": [],
   "source": [
    "using LinearAlgebra\n",
    "using Random, Distributions\n",
    "using MLJ\n",
    "using DataFrames\n",
    "using MLJLinearModels\n",
    "using Plots"
   ]
  },
  {
   "cell_type": "code",
   "execution_count": 4,
   "metadata": {},
   "outputs": [
    {
     "name": "stderr",
     "output_type": "stream",
     "text": [
      "WARNING: replacing module srfe.\n"
     ]
    },
    {
     "ename": "LoadError",
     "evalue": "LoadError: MethodError: no method matching fit_srfe(::Matrix{Float64}, ::Vector{Float64}, ::Float64, ::Int64, ::typeof(rff); σ2=1, q=0, quantization=0, K=1, r=1)\nClosest candidates are:\n  fit_srfe(::Any, ::Any, ::Any, ::Any, ::Any; σ2, q, quantization, K, pruning) at c:\\Users\\grsbe\\Desktop\\Masterthesis\\qsrfe\\srfe.jl:158 got unsupported keyword argument \"r\"\nin expression starting at c:\\Users\\grsbe\\Desktop\\Masterthesis\\qsrfe\\srfe.jl:258",
     "output_type": "error",
     "traceback": [
      "LoadError: MethodError: no method matching fit_srfe(::Matrix{Float64}, ::Vector{Float64}, ::Float64, ::Int64, ::typeof(rff); σ2=1, q=0, quantization=0, K=1, r=1)\n",
      "Closest candidates are:\n",
      "  fit_srfe(::Any, ::Any, ::Any, ::Any, ::Any; σ2, q, quantization, K, pruning) at c:\\Users\\grsbe\\Desktop\\Masterthesis\\qsrfe\\srfe.jl:158 got unsupported keyword argument \"r\"\n",
      "in expression starting at c:\\Users\\grsbe\\Desktop\\Masterthesis\\qsrfe\\srfe.jl:258\n",
      "\n",
      "Stacktrace:\n",
      " [1] kwerr(::NamedTuple{(:σ2, :q, :quantization, :K, :r), NTuple{5, Int64}}, ::Function, ::Matrix{Float64}, ::Vector{Float64}, ::Float64, ::Int64, ::Function)\n",
      "   @ Base .\\error.jl:163\n",
      " [2] top-level scope\n",
      "   @ c:\\Users\\grsbe\\Desktop\\Masterthesis\\qsrfe\\srfe.jl:258"
     ]
    }
   ],
   "source": [
    "include(\"srfe.jl\")\n",
    "using .srfe"
   ]
  },
  {
   "cell_type": "code",
   "execution_count": null,
   "metadata": {},
   "outputs": [],
   "source": []
  },
  {
   "cell_type": "code",
   "execution_count": null,
   "metadata": {},
   "outputs": [],
   "source": []
  },
  {
   "cell_type": "code",
   "execution_count": null,
   "metadata": {},
   "outputs": [],
   "source": []
  }
 ],
 "metadata": {
  "kernelspec": {
   "display_name": "Julia 1.7.3",
   "language": "julia",
   "name": "julia-1.7"
  },
  "language_info": {
   "file_extension": ".jl",
   "mimetype": "application/julia",
   "name": "julia",
   "version": "1.7.3"
  },
  "orig_nbformat": 4
 },
 "nbformat": 4,
 "nbformat_minor": 2
}
